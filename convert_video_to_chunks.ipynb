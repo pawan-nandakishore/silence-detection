{
 "cells": [
  {
   "cell_type": "code",
   "execution_count": 1,
   "metadata": {
    "ExecuteTime": {
     "end_time": "2019-03-26T20:07:34.581977Z",
     "start_time": "2019-03-26T20:07:34.564024Z"
    }
   },
   "outputs": [],
   "source": [
    "import subprocess\n",
    "import os \n",
    "import wave\n",
    "import contextlib\n",
    "import numpy as np \n",
    "import shutil\n",
    "\n"
   ]
  },
  {
   "cell_type": "code",
   "execution_count": 2,
   "metadata": {
    "ExecuteTime": {
     "end_time": "2019-03-26T20:07:38.563879Z",
     "start_time": "2019-03-26T20:07:38.431236Z"
    }
   },
   "outputs": [],
   "source": [
    "def convert_to_wav(input_file,output_file): \n",
    "    \"\"\"\n",
    "    convert an mp4 file to mono .wav format\n",
    "    \"\"\"\n",
    "    call = \"ffmpeg -i \" +str(input_file)+ \" -ac 1 \"+str(output_file)\n",
    "    return_val=  subprocess.call(call, shell=True)\n",
    "    \n",
    "    if return_val == 1: \n",
    "        print(\"did NOT get converted,  \\n check if a filename with the  \\n name as the output file exists\")\n",
    "    else: \n",
    "         \n",
    "        print(\"file has been converted\")\n",
    "\n",
    "\n",
    "def get_duration(file_name):\n",
    "    \"\"\"\n",
    "    Get length of the wave file \n",
    "    \"\"\"\n",
    "    with contextlib.closing(wave.open(file_name,'r')) as f:\n",
    "        frames = f.getnframes()\n",
    "        rate = f.getframerate()\n",
    "        duration = frames / float(rate)\n",
    "    return duration\n",
    "\n",
    "\n",
    "def get_split_locations(file_name,split_duration): \n",
    "    \"\"\"\n",
    "    Time points where we want to split the it\n",
    "    \"\"\"\n",
    "    file_duration= get_duration(file_name)\n",
    "    floor_value =np.floor(file_duration)\n",
    "    split_points = np.arange(0,floor_value,split_duration)\n",
    "    \n",
    "    old_value = 0 \n",
    "    new_value =0 \n",
    "    split_values = []\n",
    "    \n",
    "    for i in range(0,split_points.size):\n",
    "        if(i<split_points.size-1):  \n",
    "            old_value = split_points[i]\n",
    "            new_value = split_points[i+1]\n",
    "        else: \n",
    "            old_value= split_points[i]\n",
    "            new_value = floor_value\n",
    "        \n",
    "        split_values.append([old_value, new_value])\n",
    "    return split_values\n",
    "\n",
    "\n",
    "def split_and_save(input_file): \n",
    "    \"\"\"\n",
    "    create audio splits and save them \n",
    "    \"\"\"\n",
    "    split_number= 0 \n",
    "    dirpath = os.path.join(input_file+\"_splits\")\n",
    "    if os.path.exists(dirpath) and os.path.isdir(dirpath):\n",
    "        shutil.rmtree(dirpath)\n",
    "        os.makedirs(dirpath)\n",
    "    else: \n",
    "        os.makedirs(dirpath)\n",
    "    \n",
    "    for i in splits: \n",
    "        lower_val, upper_val = i\n",
    "        output_file_name = dirpath+\"\\\\\"+ str(input_file)+\"_split_\"+str(split_number)+\".wav\"\n",
    "        split_call = \"ffmpeg -ss \"+str(int(lower_val)) +\" -to \"+str(int(upper_val))+ \" -i \"+str(input_file)+\" \"+output_file_name\n",
    "\n",
    "        print(subprocess.call(split_call, shell=True))\n",
    "\n",
    "        split_number +=1\n",
    "        print(split_call)"
   ]
  },
  {
   "cell_type": "code",
   "execution_count": null,
   "metadata": {
    "ExecuteTime": {
     "end_time": "2019-03-19T20:16:45.524939Z",
     "start_time": "2019-03-19T20:16:45.489035Z"
    }
   },
   "outputs": [],
   "source": [
    "\n",
    "\n"
   ]
  },
  {
   "cell_type": "code",
   "execution_count": 57,
   "metadata": {
    "ExecuteTime": {
     "end_time": "2019-03-19T21:24:24.316761Z",
     "start_time": "2019-03-19T21:24:23.522883Z"
    }
   },
   "outputs": [
    {
     "name": "stdout",
     "output_type": "stream",
     "text": [
      "did NOT get converted,  \n",
      " check if a filename with the  \n",
      " name as the output file exists\n",
      "0\n",
      "ffmpeg -ss 0 -to 50 -i 442.wav 442.wav_splits\\442.wav_split_0.wav\n",
      "0\n",
      "ffmpeg -ss 50 -to 100 -i 442.wav 442.wav_splits\\442.wav_split_1.wav\n",
      "0\n",
      "ffmpeg -ss 100 -to 150 -i 442.wav 442.wav_splits\\442.wav_split_2.wav\n",
      "0\n",
      "ffmpeg -ss 150 -to 200 -i 442.wav 442.wav_splits\\442.wav_split_3.wav\n",
      "0\n",
      "ffmpeg -ss 200 -to 244 -i 442.wav 442.wav_splits\\442.wav_split_4.wav\n"
     ]
    }
   ],
   "source": [
    "mp4_file= \"44.2.mp4\"\n",
    "wave_file = \"442.wav\"\n",
    "convert_to_wav(mp4_file,wave_file )\n",
    "splits= get_split_locations(wave_file, 50)\n",
    "split_and_save(wave_file)"
   ]
  },
  {
   "cell_type": "code",
   "execution_count": 7,
   "metadata": {
    "ExecuteTime": {
     "end_time": "2019-03-26T20:11:25.669492Z",
     "start_time": "2019-03-26T20:11:25.055445Z"
    }
   },
   "outputs": [
    {
     "name": "stdout",
     "output_type": "stream",
     "text": [
      "file has been converted\n"
     ]
    }
   ],
   "source": [
    "convert_to_wav(\"D:/Data_science/colaberry/face_Data/mp4/322.10.mp4\", \"33210_wave.wav\")"
   ]
  },
  {
   "cell_type": "code",
   "execution_count": null,
   "metadata": {
    "ExecuteTime": {
     "end_time": "2019-03-19T20:50:42.269201Z",
     "start_time": "2019-03-19T20:50:41.254233Z"
    }
   },
   "outputs": [],
   "source": []
  },
  {
   "cell_type": "code",
   "execution_count": 70,
   "metadata": {
    "ExecuteTime": {
     "end_time": "2019-03-19T20:33:41.470761Z",
     "start_time": "2019-03-19T20:33:41.465776Z"
    }
   },
   "outputs": [
    {
     "data": {
      "text/plain": [
       "'duck.wav_splits'"
      ]
     },
     "execution_count": 70,
     "metadata": {},
     "output_type": "execute_result"
    }
   ],
   "source": []
  },
  {
   "cell_type": "code",
   "execution_count": null,
   "metadata": {},
   "outputs": [],
   "source": []
  }
 ],
 "metadata": {
  "kernelspec": {
   "display_name": "Python 3",
   "language": "python",
   "name": "python3"
  },
  "language_info": {
   "codemirror_mode": {
    "name": "ipython",
    "version": 3
   },
   "file_extension": ".py",
   "mimetype": "text/x-python",
   "name": "python",
   "nbconvert_exporter": "python",
   "pygments_lexer": "ipython3",
   "version": "3.6.4"
  },
  "latex_envs": {
   "LaTeX_envs_menu_present": true,
   "autoclose": true,
   "autocomplete": true,
   "bibliofile": "biblio.bib",
   "cite_by": "apalike",
   "current_citInitial": 1,
   "eqLabelWithNumbers": true,
   "eqNumInitial": 1,
   "hotkeys": {
    "equation": "Ctrl-E",
    "itemize": "Ctrl-I"
   },
   "labels_anchors": false,
   "latex_user_defs": false,
   "report_style_numbering": true,
   "user_envs_cfg": false
  },
  "toc": {
   "base_numbering": 1,
   "nav_menu": {},
   "number_sections": true,
   "sideBar": true,
   "skip_h1_title": false,
   "title_cell": "Table of Contents",
   "title_sidebar": "Contents",
   "toc_cell": false,
   "toc_position": {},
   "toc_section_display": true,
   "toc_window_display": false
  },
  "varInspector": {
   "cols": {
    "lenName": 16,
    "lenType": 16,
    "lenVar": 40
   },
   "kernels_config": {
    "python": {
     "delete_cmd_postfix": "",
     "delete_cmd_prefix": "del ",
     "library": "var_list.py",
     "varRefreshCmd": "print(var_dic_list())"
    },
    "r": {
     "delete_cmd_postfix": ") ",
     "delete_cmd_prefix": "rm(",
     "library": "var_list.r",
     "varRefreshCmd": "cat(var_dic_list()) "
    }
   },
   "types_to_exclude": [
    "module",
    "function",
    "builtin_function_or_method",
    "instance",
    "_Feature"
   ],
   "window_display": false
  }
 },
 "nbformat": 4,
 "nbformat_minor": 2
}
