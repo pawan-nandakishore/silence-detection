{
 "cells": [
  {
   "cell_type": "code",
   "execution_count": 1,
   "metadata": {
    "ExecuteTime": {
     "end_time": "2019-03-27T23:46:58.084729Z",
     "start_time": "2019-03-27T23:46:54.121190Z"
    }
   },
   "outputs": [
    {
     "data": {
      "text/html": [
       "<script>requirejs.config({paths: { 'plotly': ['https://cdn.plot.ly/plotly-latest.min']},});if(!window.Plotly) {{require(['plotly'],function(plotly) {window.Plotly=plotly;});}}</script>"
      ],
      "text/vnd.plotly.v1+html": [
       "<script>requirejs.config({paths: { 'plotly': ['https://cdn.plot.ly/plotly-latest.min']},});if(!window.Plotly) {{require(['plotly'],function(plotly) {window.Plotly=plotly;});}}</script>"
      ]
     },
     "metadata": {},
     "output_type": "display_data"
    }
   ],
   "source": [
    "\n",
    "import pydub as pdb \n",
    "\n",
    "from scipy.stats import norm \n",
    "\n",
    "import plotly.graph_objs as go\n",
    "from plotly.offline import download_plotlyjs, init_notebook_mode, plot, iplot\n",
    "init_notebook_mode(connected=True)\n",
    "\n",
    "import numpy as np "
   ]
  },
  {
   "cell_type": "code",
   "execution_count": 2,
   "metadata": {
    "ExecuteTime": {
     "end_time": "2019-03-27T23:46:58.139307Z",
     "start_time": "2019-03-27T23:46:58.088719Z"
    }
   },
   "outputs": [],
   "source": [
    "test_wave = pdb.AudioSegment.from_wav(\"D:\\\\Data_science\\\\colaberry\\\\audio_transcription\\\\442.wav \")\n",
    "test_wave =test_wave.set_channels(1) # set stereo to mono \n"
   ]
  },
  {
   "cell_type": "code",
   "execution_count": null,
   "metadata": {
    "ExecuteTime": {
     "start_time": "2019-03-27T23:46:54.112Z"
    }
   },
   "outputs": [],
   "source": [
    "# detect regions where there is silence \n",
    "silent_regions = pdb.silence.detect_silence(test_wave,min_silence_len=500,silence_thresh=-35)"
   ]
  },
  {
   "cell_type": "code",
   "execution_count": null,
   "metadata": {
    "ExecuteTime": {
     "start_time": "2019-03-27T23:46:54.154Z"
    }
   },
   "outputs": [],
   "source": [
    "test_wave"
   ]
  },
  {
   "cell_type": "code",
   "execution_count": null,
   "metadata": {
    "ExecuteTime": {
     "start_time": "2019-03-27T23:46:54.157Z"
    }
   },
   "outputs": [],
   "source": [
    "np_wave = test_wave.get_array_of_samples()"
   ]
  },
  {
   "cell_type": "code",
   "execution_count": null,
   "metadata": {
    "ExecuteTime": {
     "start_time": "2019-03-27T23:46:54.161Z"
    }
   },
   "outputs": [],
   "source": [
    "db_values = np.array(np_wave)\n",
    "normalized_db = db_values/np.max(db_values)\n",
    "audio_regions = normalized_db[0:50000]\n"
   ]
  },
  {
   "cell_type": "code",
   "execution_count": null,
   "metadata": {
    "ExecuteTime": {
     "start_time": "2019-03-27T23:46:54.165Z"
    }
   },
   "outputs": [],
   "source": [
    "#1000 units is 1 sec \n",
    "time_axis= np.arange(0,normalized_db.size)\n",
    "normalized_time = time_axis/(test_wave.frame_rate/1000)\n"
   ]
  },
  {
   "cell_type": "code",
   "execution_count": null,
   "metadata": {
    "ExecuteTime": {
     "end_time": "2019-03-27T20:34:11.689413Z",
     "start_time": "2019-03-27T20:34:11.683426Z"
    }
   },
   "outputs": [],
   "source": []
  },
  {
   "cell_type": "code",
   "execution_count": null,
   "metadata": {
    "ExecuteTime": {
     "start_time": "2019-03-27T23:46:54.170Z"
    },
    "scrolled": true
   },
   "outputs": [],
   "source": [
    "import matplotlib.pyplot as plt \n",
    "plt.rc(\"font\", size = 25)\n",
    "fig, ax = plt.subplots(figsize=(30,10))\n",
    "for i in range(len(silent_regions)): \n",
    "    region = silent_regions[i]\n",
    "    left_side= region[0]/1000\n",
    "    right_side= region[1]/1000\n",
    "    ax.axvspan(left_side,right_side, alpha=0.5, color='red')\n",
    "ax.plot(normalized_time/1000, normalized_db)\n",
    "plt.xlabel(\"time(s)\")\n",
    "plt.ylabel(\"normalized amplitude\")\n",
    "plt.show()"
   ]
  },
  {
   "cell_type": "code",
   "execution_count": null,
   "metadata": {
    "ExecuteTime": {
     "start_time": "2019-03-27T23:46:54.174Z"
    }
   },
   "outputs": [],
   "source": [
    "print(\"number of channels {}\".format(test_wave.channels))\n",
    "print(\"frame count {}\".format(test_wave.frame_count()))\n",
    "print(\"sampling rate {}\".format(test_wave.frame_rate))"
   ]
  },
  {
   "cell_type": "code",
   "execution_count": null,
   "metadata": {
    "ExecuteTime": {
     "start_time": "2019-03-27T23:46:54.177Z"
    }
   },
   "outputs": [],
   "source": [
    "region = silent_regions[5] \n"
   ]
  },
  {
   "cell_type": "code",
   "execution_count": null,
   "metadata": {
    "ExecuteTime": {
     "start_time": "2019-03-27T23:46:54.181Z"
    }
   },
   "outputs": [],
   "source": [
    "silent_region = test_wave[region[0]:region[1]]\n"
   ]
  },
  {
   "cell_type": "code",
   "execution_count": null,
   "metadata": {
    "ExecuteTime": {
     "start_time": "2019-03-27T23:46:54.188Z"
    }
   },
   "outputs": [],
   "source": [
    "silent_region"
   ]
  },
  {
   "cell_type": "code",
   "execution_count": null,
   "metadata": {
    "ExecuteTime": {
     "start_time": "2019-03-27T23:46:54.192Z"
    }
   },
   "outputs": [],
   "source": [
    "# silent region sizes \n",
    "region_sizes =[]\n",
    "for sing_region in silent_regions: \n",
    "    region_sizes.append(sing_region[1]- sing_region[0])\n",
    "\n",
    "reg_size_array = np.array(region_sizes)\n",
    "np.argmax(reg_size_array)\n"
   ]
  },
  {
   "cell_type": "code",
   "execution_count": null,
   "metadata": {
    "ExecuteTime": {
     "start_time": "2019-03-27T23:46:54.196Z"
    }
   },
   "outputs": [],
   "source": [
    "region_sizes"
   ]
  },
  {
   "cell_type": "code",
   "execution_count": null,
   "metadata": {
    "ExecuteTime": {
     "end_time": "2019-03-27T20:48:39.046793Z",
     "start_time": "2019-03-27T20:48:39.033831Z"
    }
   },
   "outputs": [],
   "source": []
  },
  {
   "cell_type": "code",
   "execution_count": null,
   "metadata": {
    "ExecuteTime": {
     "end_time": "2019-03-27T20:48:39.061725Z",
     "start_time": "2019-03-27T20:48:39.048788Z"
    }
   },
   "outputs": [],
   "source": [
    "\n"
   ]
  },
  {
   "cell_type": "code",
   "execution_count": null,
   "metadata": {
    "ExecuteTime": {
     "end_time": "2019-03-27T22:26:54.635912Z",
     "start_time": "2019-03-27T22:26:54.621916Z"
    }
   },
   "outputs": [],
   "source": []
  },
  {
   "cell_type": "code",
   "execution_count": null,
   "metadata": {
    "ExecuteTime": {
     "end_time": "2019-03-27T22:26:54.652835Z",
     "start_time": "2019-03-27T22:26:54.640868Z"
    }
   },
   "outputs": [],
   "source": []
  },
  {
   "cell_type": "code",
   "execution_count": null,
   "metadata": {
    "ExecuteTime": {
     "end_time": "2019-03-27T22:26:54.668793Z",
     "start_time": "2019-03-27T22:26:54.656823Z"
    }
   },
   "outputs": [],
   "source": []
  },
  {
   "cell_type": "code",
   "execution_count": null,
   "metadata": {
    "ExecuteTime": {
     "end_time": "2019-03-27T22:34:30.133212Z",
     "start_time": "2019-03-27T22:34:28.675140Z"
    }
   },
   "outputs": [],
   "source": []
  },
  {
   "cell_type": "code",
   "execution_count": null,
   "metadata": {
    "ExecuteTime": {
     "end_time": "2019-03-27T22:34:40.855524Z",
     "start_time": "2019-03-27T22:34:36.097361Z"
    }
   },
   "outputs": [],
   "source": []
  },
  {
   "cell_type": "code",
   "execution_count": null,
   "metadata": {
    "ExecuteTime": {
     "end_time": "2019-03-27T22:30:16.864940Z",
     "start_time": "2019-03-27T22:30:16.857498Z"
    }
   },
   "outputs": [],
   "source": []
  },
  {
   "cell_type": "code",
   "execution_count": null,
   "metadata": {},
   "outputs": [],
   "source": []
  },
  {
   "cell_type": "code",
   "execution_count": null,
   "metadata": {},
   "outputs": [],
   "source": []
  }
 ],
 "metadata": {
  "kernelspec": {
   "display_name": "Python 3",
   "language": "python",
   "name": "python3"
  },
  "language_info": {
   "codemirror_mode": {
    "name": "ipython",
    "version": 3
   },
   "file_extension": ".py",
   "mimetype": "text/x-python",
   "name": "python",
   "nbconvert_exporter": "python",
   "pygments_lexer": "ipython3",
   "version": "3.6.4"
  },
  "latex_envs": {
   "LaTeX_envs_menu_present": true,
   "autoclose": true,
   "autocomplete": true,
   "bibliofile": "biblio.bib",
   "cite_by": "apalike",
   "current_citInitial": 1,
   "eqLabelWithNumbers": true,
   "eqNumInitial": 1,
   "hotkeys": {
    "equation": "Ctrl-E",
    "itemize": "Ctrl-I"
   },
   "labels_anchors": false,
   "latex_user_defs": false,
   "report_style_numbering": true,
   "user_envs_cfg": false
  },
  "toc": {
   "base_numbering": 1,
   "nav_menu": {},
   "number_sections": true,
   "sideBar": true,
   "skip_h1_title": false,
   "title_cell": "Table of Contents",
   "title_sidebar": "Contents",
   "toc_cell": false,
   "toc_position": {},
   "toc_section_display": true,
   "toc_window_display": false
  },
  "varInspector": {
   "cols": {
    "lenName": 16,
    "lenType": 16,
    "lenVar": 40
   },
   "kernels_config": {
    "python": {
     "delete_cmd_postfix": "",
     "delete_cmd_prefix": "del ",
     "library": "var_list.py",
     "varRefreshCmd": "print(var_dic_list())"
    },
    "r": {
     "delete_cmd_postfix": ") ",
     "delete_cmd_prefix": "rm(",
     "library": "var_list.r",
     "varRefreshCmd": "cat(var_dic_list()) "
    }
   },
   "types_to_exclude": [
    "module",
    "function",
    "builtin_function_or_method",
    "instance",
    "_Feature"
   ],
   "window_display": false
  }
 },
 "nbformat": 4,
 "nbformat_minor": 2
}
